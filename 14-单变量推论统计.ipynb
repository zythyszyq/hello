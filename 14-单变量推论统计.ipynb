{
 "cells": [
  {
   "cell_type": "markdown",
   "metadata": {},
   "source": [
    "对样本资料进行描述统计后，我们还要根据样本的研究结果来推测总体的情况。以样本的数值来推算总体，结论可能正确，也可能错误，而运用概率论原理，我们可以求出推论统计犯错的可能性大小。只要我们是采用随机抽样方法，就可以根据抽样分布，以样本的数值来推测总体的情况。\n",
    "\n",
    "推论统计一般分为两大类：参数估计（parameter estimation）和假设检验（hypothesis testing）。参数估计是根据随机样本的统计值来估计总体的参数值。假设检验是先提出假设总体的情况，再以随机样本的统计值来检验这个假设是否正确。社会研究大多数采用假设检验的推论统计分析方法。\n",
    "\n",
    "## 参数估计\n",
    "\n",
    "参数估计是推论统计学中的一个核心概念，旨在根据样本数据估计总体的未知参数。这里的参数通常是指总体的某些特征，如均值、方差、比例等。参数估计主要分为两类：点估计和区间估计。\n",
    "\n",
    "### 点值估计\n",
    "\n",
    "设总体$X$的分布函数的形式已知，但它的一个或多个参数未知，借助于总体$X$的一个样本来估计总体未知参数的值的问题称为参数的点估计问题。\n",
    "\n",
    "点值估计，就是以一个适当的样本统计值来代表总体的参数值。如用样本均值$X$估计总体均值$\\mu$，或者用样本标准差$S$估计总体标准差$\\sigma$。\n",
    "\n",
    "例如：\n",
    "\n",
    "> 报告显示，截至2022年6月，我国网民规模为10.51亿，较2021年12月新增网民1919万，互联网普及率达74.4%。网民人均每周上网时长为29.5个小时，使用手机上网的比例达99.6%。\n",
    "\n",
    "但是点估计不能提供估计参数的估计误差大小，所以点估计主要为许多定性研究提供一定的参考数据，或在对总体参数要求不精确时使用，而在需要用精确总体参数的数据进行决策时则很少使用。\n",
    "\n",
    "### 区间估计\n",
    "\n",
    "区间估计指的是，在点估计的基础上，以区间的形式估计出一个范围，并给出这个范围中包含参数值真值的可信程度。区间估计就是以两个数值之间的间距来估计参数值，至于间距的大小，取决于可信程度（也叫置信度）。间距的大小（误差范围）与置信度（可靠程度）的高低成反比。\n",
    "\n",
    "#### 均值的区间估计\n",
    "\n",
    "$$\\bar{X}\\pm1.96(\\frac{S}{\\sqrt{n}})$$\n",
    "\n",
    "其中1.96为95%置信水平对于的$Z$值。$S$为样本标准差，$n$是样本规模，$\\bar{X}$是样本的平均值。\n",
    "\n",
    "#### 比例值的区间估计\n",
    "\n",
    "$$p\\pm1.96\\sqrt{\\frac{p(1-p)}{n}}$$\n",
    "\n",
    "其中$p$为样本的比例值，$n$为样本规模，1.96为95%置信水平对于的$Z$值。"
   ]
  },
  {
   "cell_type": "code",
   "execution_count": 3,
   "metadata": {},
   "outputs": [
    {
     "name": "stdout",
     "output_type": "stream",
     "text": [
      "均值： 7.20\n",
      "均值在置信水平0.95下的置信区间为： (7.171337577138237, 7.2214184794700635)\n"
     ]
    }
   ],
   "source": [
    "import pandas as pd\n",
    "from scipy import stats\n",
    "# 打开数据文件\n",
    "file_path = R\"data/movie_data_cleaned.csv\"\n",
    "df_movies = pd.read_csv(file_path)\n",
    "# 计算均值和标准误差\n",
    "mean = df_movies['average'].mean()\n",
    "std_error = stats.sem(df_movies['average'])\n",
    "# 设定置信水平\n",
    "confidence_level = 0.95\n",
    "# 设定自由度\n",
    "自由度 = len(df_movies['average']) - 1\n",
    "# 计算置信区间\n",
    "confidence_interval = stats.t.interval(confidence_level, 自由度, loc=mean, scale=std_error)\n",
    "# 输出结果\n",
    "print(F\"均值：{mean: .2f}\")\n",
    "print(F\"均值在置信水平{confidence_level}下的置信区间为：\", confidence_interval)"
   ]
  },
  {
   "cell_type": "code",
   "execution_count": null,
   "metadata": {},
   "outputs": [],
   "source": []
  }
 ],
 "metadata": {
  "kernelspec": {
   "display_name": "Python 3",
   "language": "python",
   "name": "python3"
  },
  "language_info": {
   "codemirror_mode": {
    "name": "ipython",
    "version": 3
   },
   "file_extension": ".py",
   "mimetype": "text/x-python",
   "name": "python",
   "nbconvert_exporter": "python",
   "pygments_lexer": "ipython3",
   "version": "3.8.10"
  },
  "orig_nbformat": 4
 },
 "nbformat": 4,
 "nbformat_minor": 2
}
