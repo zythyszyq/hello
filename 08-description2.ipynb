{
 "cells": [
  {
   "cell_type": "code",
   "execution_count": 3,
   "metadata": {},
   "outputs": [],
   "source": [
    "import pandas as pd\n",
    "from pyreadstat import pyreadstat\n",
    "df,metadapt = pyreadstat.read_sav(r'data\\identity.sav',\n",
    "apply_value_formats=True,formats_as_ordered_category=True)"
   ]
  },
  {
   "cell_type": "code",
   "execution_count": 4,
   "metadata": {},
   "outputs": [],
   "source": [
    "result = df['会打多少分'].value_counts(sort=False)\n",
    "描述统计表 = pd.DataFrame(result)\n",
    "描述统计表['比例'] = 描述统计表['count'] / 描述统计表['count'].sum()\n",
    "描述统计表['累计比例'] =描述统计表['比例'].cumsum()"
   ]
  },
  {
   "cell_type": "code",
   "execution_count": 5,
   "metadata": {},
   "outputs": [],
   "source": [
    "df_result = pd.DataFrame(result)\n",
    "sum = df_result['count'].sum()\n",
    "df_result['比例'] = df_result['count'] / sum\n",
    "df_result['累计比例'] =df_result['比例'] .cumsum()"
   ]
  },
  {
   "cell_type": "code",
   "execution_count": null,
   "metadata": {},
   "outputs": [],
   "source": [
    "result = df['会打多少分'].value_counts(sort=False,normalize=True)\n",
    "df_result = pd.DataFrame(result)\n",
    "df_result['累计求和'] = result.values.cumsum()\n"
   ]
  }
 ],
 "metadata": {
  "kernelspec": {
   "display_name": "Python 3",
   "language": "python",
   "name": "python3"
  },
  "language_info": {
   "codemirror_mode": {
    "name": "ipython",
    "version": 3
   },
   "file_extension": ".py",
   "mimetype": "text/x-python",
   "name": "python",
   "nbconvert_exporter": "python",
   "pygments_lexer": "ipython3",
   "version": "3.8.10"
  }
 },
 "nbformat": 4,
 "nbformat_minor": 2
}
