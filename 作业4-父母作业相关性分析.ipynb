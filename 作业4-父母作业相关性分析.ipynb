{
 "cells": [
  {
   "cell_type": "code",
   "execution_count": 10,
   "metadata": {},
   "outputs": [],
   "source": [
    "#导入各种包\n",
    "import pandas as pd\n",
    "from pyreadstat import pyreadstat\n",
    "import matplotlib.pyplot as plt"
   ]
  },
  {
   "cell_type": "code",
   "execution_count": 11,
   "metadata": {},
   "outputs": [],
   "source": [
    "#打开数据文件\n",
    "df1=pd.read_csv(R'data\\类别变量练习数据.csv',encoding='GBK')"
   ]
  },
  {
   "cell_type": "code",
   "execution_count": 12,
   "metadata": {},
   "outputs": [
    {
     "name": "stderr",
     "output_type": "stream",
     "text": [
      "c:\\Users\\张雨婷\\Desktop\\hello\\mytools.py:79: RuntimeWarning: invalid value encountered in scalar divide\n",
      "  E_2 += ((F_x - f) * f) / F_x\n",
      "c:\\Users\\张雨婷\\Desktop\\hello\\mytools.py:79: RuntimeWarning: divide by zero encountered in scalar divide\n",
      "  E_2 += ((F_x - f) * f) / F_x\n"
     ]
    },
    {
     "data": {
      "text/plain": [
       "nan"
      ]
     },
     "execution_count": 12,
     "metadata": {},
     "output_type": "execute_result"
    }
   ],
   "source": [
    "#计算tauy\n",
    "import mytools  # 导入mytools模块  \n",
    "  \n",
    "# 计算tauy  \n",
    "tau_y = mytools.goodmanKruska_tau_y(df1,'父亲职业重新编码','母亲职业重新编码')  \n",
    "tau_y"
   ]
  },
  {
   "cell_type": "code",
   "execution_count": 13,
   "metadata": {},
   "outputs": [
    {
     "data": {
      "text/plain": [
       "'极弱相关或无相关'"
      ]
     },
     "execution_count": 13,
     "metadata": {},
     "output_type": "execute_result"
    }
   ],
   "source": [
    "#评价tauy\n",
    "mytools.相关系数强弱判断(tau_y)"
   ]
  },
  {
   "cell_type": "code",
   "execution_count": 15,
   "metadata": {},
   "outputs": [
    {
     "data": {
      "text/html": [
       "<div>\n",
       "<style scoped>\n",
       "    .dataframe tbody tr th:only-of-type {\n",
       "        vertical-align: middle;\n",
       "    }\n",
       "\n",
       "    .dataframe tbody tr th {\n",
       "        vertical-align: top;\n",
       "    }\n",
       "\n",
       "    .dataframe thead th {\n",
       "        text-align: right;\n",
       "    }\n",
       "</style>\n",
       "<table border=\"1\" class=\"dataframe\">\n",
       "  <thead>\n",
       "    <tr style=\"text-align: right;\">\n",
       "      <th>母亲职业重新编码</th>\n",
       "      <th>个体户</th>\n",
       "      <th>事业单位</th>\n",
       "      <th>公务员</th>\n",
       "      <th>国企</th>\n",
       "      <th>家庭主父母</th>\n",
       "      <th>无</th>\n",
       "      <th>民企</th>\n",
       "      <th>All</th>\n",
       "    </tr>\n",
       "    <tr>\n",
       "      <th>父亲职业重新编码</th>\n",
       "      <th></th>\n",
       "      <th></th>\n",
       "      <th></th>\n",
       "      <th></th>\n",
       "      <th></th>\n",
       "      <th></th>\n",
       "      <th></th>\n",
       "      <th></th>\n",
       "    </tr>\n",
       "  </thead>\n",
       "  <tbody>\n",
       "    <tr>\n",
       "      <th>个体户</th>\n",
       "      <td>0.571429</td>\n",
       "      <td>0.000000</td>\n",
       "      <td>0.0625</td>\n",
       "      <td>0.000000</td>\n",
       "      <td>0.090909</td>\n",
       "      <td>0.5</td>\n",
       "      <td>0.142857</td>\n",
       "      <td>0.150943</td>\n",
       "    </tr>\n",
       "    <tr>\n",
       "      <th>事业单位</th>\n",
       "      <td>0.000000</td>\n",
       "      <td>0.142857</td>\n",
       "      <td>0.0625</td>\n",
       "      <td>0.000000</td>\n",
       "      <td>0.000000</td>\n",
       "      <td>0.0</td>\n",
       "      <td>0.000000</td>\n",
       "      <td>0.037736</td>\n",
       "    </tr>\n",
       "    <tr>\n",
       "      <th>公务员</th>\n",
       "      <td>0.142857</td>\n",
       "      <td>0.714286</td>\n",
       "      <td>0.6875</td>\n",
       "      <td>0.666667</td>\n",
       "      <td>0.000000</td>\n",
       "      <td>0.0</td>\n",
       "      <td>0.428571</td>\n",
       "      <td>0.415094</td>\n",
       "    </tr>\n",
       "    <tr>\n",
       "      <th>国企</th>\n",
       "      <td>0.142857</td>\n",
       "      <td>0.000000</td>\n",
       "      <td>0.0000</td>\n",
       "      <td>0.333333</td>\n",
       "      <td>0.090909</td>\n",
       "      <td>0.5</td>\n",
       "      <td>0.142857</td>\n",
       "      <td>0.094340</td>\n",
       "    </tr>\n",
       "    <tr>\n",
       "      <th>家庭主父母</th>\n",
       "      <td>0.000000</td>\n",
       "      <td>0.000000</td>\n",
       "      <td>0.0625</td>\n",
       "      <td>0.000000</td>\n",
       "      <td>0.181818</td>\n",
       "      <td>0.0</td>\n",
       "      <td>0.000000</td>\n",
       "      <td>0.056604</td>\n",
       "    </tr>\n",
       "    <tr>\n",
       "      <th>民企</th>\n",
       "      <td>0.142857</td>\n",
       "      <td>0.142857</td>\n",
       "      <td>0.1250</td>\n",
       "      <td>0.000000</td>\n",
       "      <td>0.636364</td>\n",
       "      <td>0.0</td>\n",
       "      <td>0.285714</td>\n",
       "      <td>0.245283</td>\n",
       "    </tr>\n",
       "  </tbody>\n",
       "</table>\n",
       "</div>"
      ],
      "text/plain": [
       "母亲职业重新编码       个体户      事业单位     公务员        国企     家庭主父母    无        民企  \\\n",
       "父亲职业重新编码                                                                  \n",
       "个体户       0.571429  0.000000  0.0625  0.000000  0.090909  0.5  0.142857   \n",
       "事业单位      0.000000  0.142857  0.0625  0.000000  0.000000  0.0  0.000000   \n",
       "公务员       0.142857  0.714286  0.6875  0.666667  0.000000  0.0  0.428571   \n",
       "国企        0.142857  0.000000  0.0000  0.333333  0.090909  0.5  0.142857   \n",
       "家庭主父母     0.000000  0.000000  0.0625  0.000000  0.181818  0.0  0.000000   \n",
       "民企        0.142857  0.142857  0.1250  0.000000  0.636364  0.0  0.285714   \n",
       "\n",
       "母亲职业重新编码       All  \n",
       "父亲职业重新编码            \n",
       "个体户       0.150943  \n",
       "事业单位      0.037736  \n",
       "公务员       0.415094  \n",
       "国企        0.094340  \n",
       "家庭主父母     0.056604  \n",
       "民企        0.245283  "
      ]
     },
     "execution_count": 15,
     "metadata": {},
     "output_type": "execute_result"
    }
   ],
   "source": [
    "mytools.制作交叉表(df1,'父亲职业重新编码','母亲职业重新编码')  "
   ]
  }
 ],
 "metadata": {
  "kernelspec": {
   "display_name": "Python 3",
   "language": "python",
   "name": "python3"
  },
  "language_info": {
   "codemirror_mode": {
    "name": "ipython",
    "version": 3
   },
   "file_extension": ".py",
   "mimetype": "text/x-python",
   "name": "python",
   "nbconvert_exporter": "python",
   "pygments_lexer": "ipython3",
   "version": "3.8.10"
  }
 },
 "nbformat": 4,
 "nbformat_minor": 2
}
