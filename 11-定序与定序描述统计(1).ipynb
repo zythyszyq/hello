{
 "cells": [
  {
   "cell_type": "code",
   "execution_count": 4,
   "metadata": {},
   "outputs": [],
   "source": [
    "# 双变量描述统计指标是相关系数，相关系数有很多种。选择标准有三：\n",
    "# 1. 测量层次\n",
    "# 2. 是否对称\n",
    "# 3. 是否具有消除误差比例的意义\n",
    "\n",
    "# 定序与定序变量的相关系数很多，优先选择Tau_y系数。"
   ]
  },
  {
   "cell_type": "code",
   "execution_count": 5,
   "metadata": {},
   "outputs": [],
   "source": [
    "import mytools\n",
    "# import pandas as pd\n",
    "# from pyreadstat import pyreadstat\n",
    "国家认同原始数据, meta = mytools.读取SPSS数据(R'data/identity.sav')"
   ]
  },
  {
   "cell_type": "code",
   "execution_count": 6,
   "metadata": {},
   "outputs": [
    {
     "name": "stderr",
     "output_type": "stream",
     "text": [
      "c:\\Users\\张雨婷\\Desktop\\hello\\mytools.py:79: RuntimeWarning: divide by zero encountered in scalar divide\n",
      "  E_2 += ((F_x - f) * f) / F_x\n",
      "c:\\Users\\张雨婷\\Desktop\\hello\\mytools.py:79: RuntimeWarning: invalid value encountered in scalar divide\n",
      "  E_2 += ((F_x - f) * f) / F_x\n"
     ]
    },
    {
     "data": {
      "text/plain": [
       "nan"
      ]
     },
     "execution_count": 6,
     "metadata": {},
     "output_type": "execute_result"
    }
   ],
   "source": [
    "tau_y = mytools.goodmanKruska_tau_y(国家认同原始数据,'年级','政治面貌')\n",
    "tau_y"
   ]
  },
  {
   "cell_type": "code",
   "execution_count": 7,
   "metadata": {},
   "outputs": [
    {
     "data": {
      "text/plain": [
       "'极弱相关或无相关'"
      ]
     },
     "execution_count": 7,
     "metadata": {},
     "output_type": "execute_result"
    }
   ],
   "source": [
    "mytools.相关系数强弱判断(tau_y)"
   ]
  },
  {
   "cell_type": "code",
   "execution_count": 8,
   "metadata": {},
   "outputs": [
    {
     "data": {
      "text/html": [
       "<div>\n",
       "<style scoped>\n",
       "    .dataframe tbody tr th:only-of-type {\n",
       "        vertical-align: middle;\n",
       "    }\n",
       "\n",
       "    .dataframe tbody tr th {\n",
       "        vertical-align: top;\n",
       "    }\n",
       "\n",
       "    .dataframe thead th {\n",
       "        text-align: right;\n",
       "    }\n",
       "</style>\n",
       "<table border=\"1\" class=\"dataframe\">\n",
       "  <thead>\n",
       "    <tr style=\"text-align: right;\">\n",
       "      <th>年级</th>\n",
       "      <th>预科</th>\n",
       "      <th>大一</th>\n",
       "      <th>大二</th>\n",
       "      <th>大三</th>\n",
       "      <th>大四</th>\n",
       "      <th>All</th>\n",
       "    </tr>\n",
       "    <tr>\n",
       "      <th>政治面貌</th>\n",
       "      <th></th>\n",
       "      <th></th>\n",
       "      <th></th>\n",
       "      <th></th>\n",
       "      <th></th>\n",
       "      <th></th>\n",
       "    </tr>\n",
       "  </thead>\n",
       "  <tbody>\n",
       "    <tr>\n",
       "      <th>团员</th>\n",
       "      <td>0.928571</td>\n",
       "      <td>0.846906</td>\n",
       "      <td>0.748201</td>\n",
       "      <td>0.546512</td>\n",
       "      <td>0.638298</td>\n",
       "      <td>0.734104</td>\n",
       "    </tr>\n",
       "    <tr>\n",
       "      <th>党员</th>\n",
       "      <td>0.000000</td>\n",
       "      <td>0.048860</td>\n",
       "      <td>0.118705</td>\n",
       "      <td>0.255814</td>\n",
       "      <td>0.223404</td>\n",
       "      <td>0.130636</td>\n",
       "    </tr>\n",
       "    <tr>\n",
       "      <th>群众</th>\n",
       "      <td>0.071429</td>\n",
       "      <td>0.091205</td>\n",
       "      <td>0.107914</td>\n",
       "      <td>0.151163</td>\n",
       "      <td>0.117021</td>\n",
       "      <td>0.110983</td>\n",
       "    </tr>\n",
       "    <tr>\n",
       "      <th>其他</th>\n",
       "      <td>0.000000</td>\n",
       "      <td>0.013029</td>\n",
       "      <td>0.025180</td>\n",
       "      <td>0.046512</td>\n",
       "      <td>0.021277</td>\n",
       "      <td>0.024277</td>\n",
       "    </tr>\n",
       "  </tbody>\n",
       "</table>\n",
       "</div>"
      ],
      "text/plain": [
       "年级          预科        大一        大二        大三        大四       All\n",
       "政治面貌                                                            \n",
       "团员    0.928571  0.846906  0.748201  0.546512  0.638298  0.734104\n",
       "党员    0.000000  0.048860  0.118705  0.255814  0.223404  0.130636\n",
       "群众    0.071429  0.091205  0.107914  0.151163  0.117021  0.110983\n",
       "其他    0.000000  0.013029  0.025180  0.046512  0.021277  0.024277"
      ]
     },
     "execution_count": 8,
     "metadata": {},
     "output_type": "execute_result"
    }
   ],
   "source": [
    "mytools.制作交叉表(国家认同原始数据,'政治面貌','年级')"
   ]
  }
 ],
 "metadata": {
  "kernelspec": {
   "display_name": "Python 3",
   "language": "python",
   "name": "python3"
  },
  "language_info": {
   "codemirror_mode": {
    "name": "ipython",
    "version": 3
   },
   "file_extension": ".py",
   "mimetype": "text/x-python",
   "name": "python",
   "nbconvert_exporter": "python",
   "pygments_lexer": "ipython3",
   "version": "3.8.10"
  }
 },
 "nbformat": 4,
 "nbformat_minor": 2
}
