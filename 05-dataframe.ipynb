{
 "cells": [
  {
   "cell_type": "code",
   "execution_count": 69,
   "metadata": {},
   "outputs": [],
   "source": [
    "import pandas as pd\n",
    "import numpy as np"
   ]
  },
  {
   "cell_type": "code",
   "execution_count": 70,
   "metadata": {},
   "outputs": [],
   "source": [
    "#任务1将列表转化为Nunpy数组\n",
    "import numpy as np\n",
    "data0 = [2, 4, 6.5, 8]\n",
    "arr0 = np.array(data0)"
   ]
  },
  {
   "cell_type": "code",
   "execution_count": 71,
   "metadata": {},
   "outputs": [],
   "source": [
    "#pandas中的Series数据类型\n",
    "s=pd.Series(data=[100,'a',{'dic1':5}],\n",
    "            index=pd.Index(['id1',20,'third'],name='my_idx'),\n",
    "            dtype='object',\n",
    "            name='my_name')"
   ]
  },
  {
   "cell_type": "code",
   "execution_count": 72,
   "metadata": {},
   "outputs": [],
   "source": [
    "s2=pd.Series([1,2,3,4])"
   ]
  },
  {
   "cell_type": "code",
   "execution_count": 73,
   "metadata": {},
   "outputs": [
    {
     "data": {
      "text/plain": [
       "0    1\n",
       "1    1\n",
       "2    1\n",
       "3    1\n",
       "Name: count, dtype: int64"
      ]
     },
     "execution_count": 73,
     "metadata": {},
     "output_type": "execute_result"
    }
   ],
   "source": [
    "s2.index.value_counts()"
   ]
  },
  {
   "cell_type": "code",
   "execution_count": 74,
   "metadata": {},
   "outputs": [
    {
     "data": {
      "text/plain": [
       "numpy.int64"
      ]
     },
     "execution_count": 74,
     "metadata": {},
     "output_type": "execute_result"
    }
   ],
   "source": [
    "type(s2.values[0])"
   ]
  },
  {
   "cell_type": "code",
   "execution_count": 75,
   "metadata": {},
   "outputs": [
    {
     "data": {
      "text/plain": [
       "4"
      ]
     },
     "execution_count": 75,
     "metadata": {},
     "output_type": "execute_result"
    }
   ],
   "source": [
    "s2.size"
   ]
  },
  {
   "cell_type": "code",
   "execution_count": 76,
   "metadata": {},
   "outputs": [
    {
     "data": {
      "text/plain": [
       "(4,)"
      ]
     },
     "execution_count": 76,
     "metadata": {},
     "output_type": "execute_result"
    }
   ],
   "source": [
    "s2.shape"
   ]
  },
  {
   "cell_type": "code",
   "execution_count": 77,
   "metadata": {},
   "outputs": [],
   "source": [
    "#任务3：创建DataFrame类型的数据，并获取其索引、值及表大小\n",
    "d={\n",
    "    \"one\":pd.Series([1.0,2.0,3.0],index=[\"a\",\"b\",\"c\"]),\n",
    "    \"two\":pd.Series([1.0,2.0,3.0,4.0],index=[\"a\",\"b\",\"c\",\"d\",])}\n",
    "df=pd.DataFrame(d)"
   ]
  },
  {
   "cell_type": "code",
   "execution_count": 78,
   "metadata": {},
   "outputs": [],
   "source": [
    "d1={\n",
    "    \"作者\":pd.Series(['余华','莫言','priest']),\n",
    "    \"作品\":pd.Series(['活着','生死疲劳','杀破狼']),\n",
    "    \"价格\":pd.Series(['23','45','108'])\n",
    "    }\n",
    "df2=pd.DataFrame(d1)"
   ]
  },
  {
   "cell_type": "code",
   "execution_count": 79,
   "metadata": {},
   "outputs": [
    {
     "data": {
      "text/plain": [
       "array([0, 1, 2], dtype=int64)"
      ]
     },
     "execution_count": 79,
     "metadata": {},
     "output_type": "execute_result"
    }
   ],
   "source": [
    "df2.index.values"
   ]
  },
  {
   "cell_type": "code",
   "execution_count": 80,
   "metadata": {},
   "outputs": [
    {
     "data": {
      "text/plain": [
       "(3, 3)"
      ]
     },
     "execution_count": 80,
     "metadata": {},
     "output_type": "execute_result"
    }
   ],
   "source": [
    "df2.shape"
   ]
  },
  {
   "cell_type": "code",
   "execution_count": 81,
   "metadata": {},
   "outputs": [
    {
     "data": {
      "text/plain": [
       "9"
      ]
     },
     "execution_count": 81,
     "metadata": {},
     "output_type": "execute_result"
    }
   ],
   "source": [
    "df2.size"
   ]
  },
  {
   "cell_type": "code",
   "execution_count": 82,
   "metadata": {},
   "outputs": [],
   "source": [
    "贵州茅台原始数据=pd.read_csv(R'data\\600519.csv')"
   ]
  },
  {
   "cell_type": "code",
   "execution_count": 83,
   "metadata": {},
   "outputs": [
    {
     "data": {
      "text/html": [
       "<div>\n",
       "<style scoped>\n",
       "    .dataframe tbody tr th:only-of-type {\n",
       "        vertical-align: middle;\n",
       "    }\n",
       "\n",
       "    .dataframe tbody tr th {\n",
       "        vertical-align: top;\n",
       "    }\n",
       "\n",
       "    .dataframe thead th {\n",
       "        text-align: right;\n",
       "    }\n",
       "</style>\n",
       "<table border=\"1\" class=\"dataframe\">\n",
       "  <thead>\n",
       "    <tr style=\"text-align: right;\">\n",
       "      <th></th>\n",
       "      <th>day</th>\n",
       "      <th>STOCK_CODE</th>\n",
       "      <th>open</th>\n",
       "      <th>close</th>\n",
       "      <th>maximum</th>\n",
       "      <th>minimum</th>\n",
       "      <th>volume</th>\n",
       "      <th>TURNOVER</th>\n",
       "    </tr>\n",
       "  </thead>\n",
       "  <tbody>\n",
       "    <tr>\n",
       "      <th>0</th>\n",
       "      <td>2001-08-27</td>\n",
       "      <td>6005191</td>\n",
       "      <td>34.51</td>\n",
       "      <td>35.55</td>\n",
       "      <td>37.78</td>\n",
       "      <td>32.85</td>\n",
       "      <td>406318</td>\n",
       "      <td>1410347008</td>\n",
       "    </tr>\n",
       "    <tr>\n",
       "      <th>1</th>\n",
       "      <td>2001-08-28</td>\n",
       "      <td>6005191</td>\n",
       "      <td>34.99</td>\n",
       "      <td>36.86</td>\n",
       "      <td>37.00</td>\n",
       "      <td>34.61</td>\n",
       "      <td>129647</td>\n",
       "      <td>463463008</td>\n",
       "    </tr>\n",
       "    <tr>\n",
       "      <th>2</th>\n",
       "      <td>2001-08-29</td>\n",
       "      <td>6005191</td>\n",
       "      <td>36.98</td>\n",
       "      <td>36.38</td>\n",
       "      <td>37.00</td>\n",
       "      <td>36.10</td>\n",
       "      <td>53252</td>\n",
       "      <td>194689000</td>\n",
       "    </tr>\n",
       "    <tr>\n",
       "      <th>3</th>\n",
       "      <td>2001-08-30</td>\n",
       "      <td>6005191</td>\n",
       "      <td>36.28</td>\n",
       "      <td>37.10</td>\n",
       "      <td>37.51</td>\n",
       "      <td>36.00</td>\n",
       "      <td>48013</td>\n",
       "      <td>177558000</td>\n",
       "    </tr>\n",
       "    <tr>\n",
       "      <th>4</th>\n",
       "      <td>2001-08-31</td>\n",
       "      <td>6005191</td>\n",
       "      <td>37.15</td>\n",
       "      <td>37.01</td>\n",
       "      <td>37.62</td>\n",
       "      <td>36.80</td>\n",
       "      <td>23231</td>\n",
       "      <td>86231000</td>\n",
       "    </tr>\n",
       "    <tr>\n",
       "      <th>...</th>\n",
       "      <td>...</td>\n",
       "      <td>...</td>\n",
       "      <td>...</td>\n",
       "      <td>...</td>\n",
       "      <td>...</td>\n",
       "      <td>...</td>\n",
       "      <td>...</td>\n",
       "      <td>...</td>\n",
       "    </tr>\n",
       "    <tr>\n",
       "      <th>4089</th>\n",
       "      <td>2018-10-29</td>\n",
       "      <td>6005191</td>\n",
       "      <td>549.09</td>\n",
       "      <td>549.09</td>\n",
       "      <td>549.09</td>\n",
       "      <td>549.09</td>\n",
       "      <td>49076</td>\n",
       "      <td>2694714080</td>\n",
       "    </tr>\n",
       "    <tr>\n",
       "      <th>4090</th>\n",
       "      <td>2018-10-30</td>\n",
       "      <td>6005191</td>\n",
       "      <td>510.00</td>\n",
       "      <td>524.00</td>\n",
       "      <td>543.00</td>\n",
       "      <td>509.02</td>\n",
       "      <td>204397</td>\n",
       "      <td>10663392512</td>\n",
       "    </tr>\n",
       "    <tr>\n",
       "      <th>4091</th>\n",
       "      <td>2018-10-31</td>\n",
       "      <td>6005191</td>\n",
       "      <td>527.00</td>\n",
       "      <td>548.90</td>\n",
       "      <td>555.00</td>\n",
       "      <td>522.00</td>\n",
       "      <td>96885</td>\n",
       "      <td>5239853056</td>\n",
       "    </tr>\n",
       "    <tr>\n",
       "      <th>4092</th>\n",
       "      <td>2018-11-01</td>\n",
       "      <td>6005191</td>\n",
       "      <td>555.00</td>\n",
       "      <td>563.00</td>\n",
       "      <td>585.50</td>\n",
       "      <td>551.25</td>\n",
       "      <td>98107</td>\n",
       "      <td>5581027328</td>\n",
       "    </tr>\n",
       "    <tr>\n",
       "      <th>4093</th>\n",
       "      <td>2018-11-02</td>\n",
       "      <td>6005191</td>\n",
       "      <td>585.00</td>\n",
       "      <td>599.90</td>\n",
       "      <td>600.00</td>\n",
       "      <td>572.24</td>\n",
       "      <td>89157</td>\n",
       "      <td>5227695104</td>\n",
       "    </tr>\n",
       "  </tbody>\n",
       "</table>\n",
       "<p>4094 rows × 8 columns</p>\n",
       "</div>"
      ],
      "text/plain": [
       "             day  STOCK_CODE    open   close  maximum  minimum  volume  \\\n",
       "0     2001-08-27     6005191   34.51   35.55    37.78    32.85  406318   \n",
       "1     2001-08-28     6005191   34.99   36.86    37.00    34.61  129647   \n",
       "2     2001-08-29     6005191   36.98   36.38    37.00    36.10   53252   \n",
       "3     2001-08-30     6005191   36.28   37.10    37.51    36.00   48013   \n",
       "4     2001-08-31     6005191   37.15   37.01    37.62    36.80   23231   \n",
       "...          ...         ...     ...     ...      ...      ...     ...   \n",
       "4089  2018-10-29     6005191  549.09  549.09   549.09   549.09   49076   \n",
       "4090  2018-10-30     6005191  510.00  524.00   543.00   509.02  204397   \n",
       "4091  2018-10-31     6005191  527.00  548.90   555.00   522.00   96885   \n",
       "4092  2018-11-01     6005191  555.00  563.00   585.50   551.25   98107   \n",
       "4093  2018-11-02     6005191  585.00  599.90   600.00   572.24   89157   \n",
       "\n",
       "         TURNOVER  \n",
       "0      1410347008  \n",
       "1       463463008  \n",
       "2       194689000  \n",
       "3       177558000  \n",
       "4        86231000  \n",
       "...           ...  \n",
       "4089   2694714080  \n",
       "4090  10663392512  \n",
       "4091   5239853056  \n",
       "4092   5581027328  \n",
       "4093   5227695104  \n",
       "\n",
       "[4094 rows x 8 columns]"
      ]
     },
     "execution_count": 83,
     "metadata": {},
     "output_type": "execute_result"
    }
   ],
   "source": [
    "贵州茅台原始数据"
   ]
  },
  {
   "cell_type": "code",
   "execution_count": 84,
   "metadata": {},
   "outputs": [
    {
     "data": {
      "text/plain": [
       "0        1410347008\n",
       "1         463463008\n",
       "2         194689000\n",
       "3         177558000\n",
       "4          86231000\n",
       "           ...     \n",
       "4089     2694714080\n",
       "4090    10663392512\n",
       "4091     5239853056\n",
       "4092     5581027328\n",
       "4093     5227695104\n",
       "Name: TURNOVER, Length: 4094, dtype: int64"
      ]
     },
     "execution_count": 84,
     "metadata": {},
     "output_type": "execute_result"
    }
   ],
   "source": [
    "#按列查询数据\n",
    "贵州茅台原始数据['TURNOVER']\n"
   ]
  },
  {
   "cell_type": "code",
   "execution_count": 85,
   "metadata": {},
   "outputs": [
    {
     "data": {
      "text/html": [
       "<div>\n",
       "<style scoped>\n",
       "    .dataframe tbody tr th:only-of-type {\n",
       "        vertical-align: middle;\n",
       "    }\n",
       "\n",
       "    .dataframe tbody tr th {\n",
       "        vertical-align: top;\n",
       "    }\n",
       "\n",
       "    .dataframe thead th {\n",
       "        text-align: right;\n",
       "    }\n",
       "</style>\n",
       "<table border=\"1\" class=\"dataframe\">\n",
       "  <thead>\n",
       "    <tr style=\"text-align: right;\">\n",
       "      <th></th>\n",
       "      <th>TURNOVER</th>\n",
       "      <th>volume</th>\n",
       "    </tr>\n",
       "  </thead>\n",
       "  <tbody>\n",
       "    <tr>\n",
       "      <th>0</th>\n",
       "      <td>1410347008</td>\n",
       "      <td>406318</td>\n",
       "    </tr>\n",
       "    <tr>\n",
       "      <th>1</th>\n",
       "      <td>463463008</td>\n",
       "      <td>129647</td>\n",
       "    </tr>\n",
       "    <tr>\n",
       "      <th>2</th>\n",
       "      <td>194689000</td>\n",
       "      <td>53252</td>\n",
       "    </tr>\n",
       "    <tr>\n",
       "      <th>3</th>\n",
       "      <td>177558000</td>\n",
       "      <td>48013</td>\n",
       "    </tr>\n",
       "    <tr>\n",
       "      <th>4</th>\n",
       "      <td>86231000</td>\n",
       "      <td>23231</td>\n",
       "    </tr>\n",
       "    <tr>\n",
       "      <th>...</th>\n",
       "      <td>...</td>\n",
       "      <td>...</td>\n",
       "    </tr>\n",
       "    <tr>\n",
       "      <th>4089</th>\n",
       "      <td>2694714080</td>\n",
       "      <td>49076</td>\n",
       "    </tr>\n",
       "    <tr>\n",
       "      <th>4090</th>\n",
       "      <td>10663392512</td>\n",
       "      <td>204397</td>\n",
       "    </tr>\n",
       "    <tr>\n",
       "      <th>4091</th>\n",
       "      <td>5239853056</td>\n",
       "      <td>96885</td>\n",
       "    </tr>\n",
       "    <tr>\n",
       "      <th>4092</th>\n",
       "      <td>5581027328</td>\n",
       "      <td>98107</td>\n",
       "    </tr>\n",
       "    <tr>\n",
       "      <th>4093</th>\n",
       "      <td>5227695104</td>\n",
       "      <td>89157</td>\n",
       "    </tr>\n",
       "  </tbody>\n",
       "</table>\n",
       "<p>4094 rows × 2 columns</p>\n",
       "</div>"
      ],
      "text/plain": [
       "         TURNOVER  volume\n",
       "0      1410347008  406318\n",
       "1       463463008  129647\n",
       "2       194689000   53252\n",
       "3       177558000   48013\n",
       "4        86231000   23231\n",
       "...           ...     ...\n",
       "4089   2694714080   49076\n",
       "4090  10663392512  204397\n",
       "4091   5239853056   96885\n",
       "4092   5581027328   98107\n",
       "4093   5227695104   89157\n",
       "\n",
       "[4094 rows x 2 columns]"
      ]
     },
     "execution_count": 85,
     "metadata": {},
     "output_type": "execute_result"
    }
   ],
   "source": [
    "贵州茅台原始数据[['TURNOVER','volume']]"
   ]
  },
  {
   "cell_type": "code",
   "execution_count": 86,
   "metadata": {},
   "outputs": [
    {
     "data": {
      "text/plain": [
       "day           2001-08-27\n",
       "STOCK_CODE       6005191\n",
       "open               34.51\n",
       "close              35.55\n",
       "maximum            37.78\n",
       "minimum            32.85\n",
       "volume            406318\n",
       "TURNOVER      1410347008\n",
       "Name: 0, dtype: object"
      ]
     },
     "execution_count": 86,
     "metadata": {},
     "output_type": "execute_result"
    }
   ],
   "source": [
    "#按照行索引\n",
    "贵州茅台原始数据.loc[0]"
   ]
  },
  {
   "cell_type": "code",
   "execution_count": 87,
   "metadata": {},
   "outputs": [],
   "source": [
    "贵州茅台=贵州茅台原始数据.set_index('day')"
   ]
  },
  {
   "cell_type": "code",
   "execution_count": 88,
   "metadata": {},
   "outputs": [
    {
     "data": {
      "text/plain": [
       "STOCK_CODE    6.005191e+06\n",
       "open          3.451000e+01\n",
       "close         3.555000e+01\n",
       "maximum       3.778000e+01\n",
       "minimum       3.285000e+01\n",
       "volume        4.063180e+05\n",
       "TURNOVER      1.410347e+09\n",
       "Name: 2001-08-27, dtype: float64"
      ]
     },
     "execution_count": 88,
     "metadata": {},
     "output_type": "execute_result"
    }
   ],
   "source": [
    "#loc索引器\n",
    "#单个元素\n",
    "贵州茅台.loc['2001-08-27']"
   ]
  },
  {
   "cell_type": "code",
   "execution_count": 89,
   "metadata": {},
   "outputs": [
    {
     "data": {
      "text/plain": [
       "35.55"
      ]
     },
     "execution_count": 89,
     "metadata": {},
     "output_type": "execute_result"
    }
   ],
   "source": [
    "贵州茅台.loc['2001-08-27','close']"
   ]
  },
  {
   "cell_type": "code",
   "execution_count": 90,
   "metadata": {},
   "outputs": [
    {
     "data": {
      "text/plain": [
       "open     34.51\n",
       "close    35.55\n",
       "Name: 2001-08-27, dtype: float64"
      ]
     },
     "execution_count": 90,
     "metadata": {},
     "output_type": "execute_result"
    }
   ],
   "source": [
    "贵州茅台.loc['2001-08-27',['open','close']]"
   ]
  },
  {
   "cell_type": "code",
   "execution_count": 91,
   "metadata": {},
   "outputs": [
    {
     "data": {
      "text/plain": [
       "day\n",
       "2001-08-27    34.51\n",
       "2001-08-28    34.99\n",
       "2001-08-29    36.98\n",
       "2001-08-30    36.28\n",
       "2001-08-31    37.15\n",
       "2001-09-03    37.20\n",
       "2001-09-04    37.01\n",
       "2001-09-05    37.61\n",
       "2001-09-06    37.35\n",
       "2001-09-07    36.50\n",
       "2001-09-10    35.40\n",
       "2001-09-11    36.80\n",
       "2001-09-12    35.33\n",
       "2001-09-13    36.01\n",
       "2001-09-14    36.01\n",
       "2001-09-17    36.08\n",
       "2001-09-18    35.88\n",
       "2001-09-19    36.30\n",
       "2001-09-20    36.90\n",
       "2001-09-21    36.28\n",
       "2001-09-24    36.06\n",
       "2001-09-25    36.28\n",
       "2001-09-26    36.11\n",
       "2001-09-27    36.08\n",
       "2001-09-28    36.90\n",
       "2001-10-08    37.00\n",
       "Name: open, dtype: float64"
      ]
     },
     "execution_count": 91,
     "metadata": {},
     "output_type": "execute_result"
    }
   ],
   "source": [
    "贵州茅台.loc['2001-08-27':'2001-10-08','open']"
   ]
  },
  {
   "cell_type": "code",
   "execution_count": 92,
   "metadata": {},
   "outputs": [
    {
     "data": {
      "text/html": [
       "<div>\n",
       "<style scoped>\n",
       "    .dataframe tbody tr th:only-of-type {\n",
       "        vertical-align: middle;\n",
       "    }\n",
       "\n",
       "    .dataframe tbody tr th {\n",
       "        vertical-align: top;\n",
       "    }\n",
       "\n",
       "    .dataframe thead th {\n",
       "        text-align: right;\n",
       "    }\n",
       "</style>\n",
       "<table border=\"1\" class=\"dataframe\">\n",
       "  <thead>\n",
       "    <tr style=\"text-align: right;\">\n",
       "      <th></th>\n",
       "      <th>STOCK_CODE</th>\n",
       "      <th>open</th>\n",
       "      <th>close</th>\n",
       "      <th>maximum</th>\n",
       "      <th>minimum</th>\n",
       "      <th>volume</th>\n",
       "      <th>TURNOVER</th>\n",
       "    </tr>\n",
       "    <tr>\n",
       "      <th>day</th>\n",
       "      <th></th>\n",
       "      <th></th>\n",
       "      <th></th>\n",
       "      <th></th>\n",
       "      <th></th>\n",
       "      <th></th>\n",
       "      <th></th>\n",
       "    </tr>\n",
       "  </thead>\n",
       "  <tbody>\n",
       "    <tr>\n",
       "      <th>2001-10-17</th>\n",
       "      <td>6005191</td>\n",
       "      <td>34.79</td>\n",
       "      <td>34.20</td>\n",
       "      <td>34.81</td>\n",
       "      <td>33.90</td>\n",
       "      <td>12507</td>\n",
       "      <td>42766000</td>\n",
       "    </tr>\n",
       "    <tr>\n",
       "      <th>2001-10-18</th>\n",
       "      <td>6005191</td>\n",
       "      <td>34.20</td>\n",
       "      <td>34.04</td>\n",
       "      <td>34.66</td>\n",
       "      <td>33.91</td>\n",
       "      <td>4983</td>\n",
       "      <td>16999000</td>\n",
       "    </tr>\n",
       "    <tr>\n",
       "      <th>2001-10-19</th>\n",
       "      <td>6005191</td>\n",
       "      <td>34.00</td>\n",
       "      <td>33.50</td>\n",
       "      <td>34.15</td>\n",
       "      <td>33.01</td>\n",
       "      <td>15687</td>\n",
       "      <td>52422000</td>\n",
       "    </tr>\n",
       "    <tr>\n",
       "      <th>2001-10-22</th>\n",
       "      <td>6005191</td>\n",
       "      <td>33.30</td>\n",
       "      <td>32.79</td>\n",
       "      <td>33.70</td>\n",
       "      <td>32.70</td>\n",
       "      <td>9760</td>\n",
       "      <td>32268000</td>\n",
       "    </tr>\n",
       "    <tr>\n",
       "      <th>2001-11-08</th>\n",
       "      <td>6005191</td>\n",
       "      <td>33.35</td>\n",
       "      <td>33.70</td>\n",
       "      <td>33.89</td>\n",
       "      <td>32.98</td>\n",
       "      <td>7402</td>\n",
       "      <td>24682000</td>\n",
       "    </tr>\n",
       "    <tr>\n",
       "      <th>...</th>\n",
       "      <td>...</td>\n",
       "      <td>...</td>\n",
       "      <td>...</td>\n",
       "      <td>...</td>\n",
       "      <td>...</td>\n",
       "      <td>...</td>\n",
       "      <td>...</td>\n",
       "    </tr>\n",
       "    <tr>\n",
       "      <th>2004-09-21</th>\n",
       "      <td>6005191</td>\n",
       "      <td>32.09</td>\n",
       "      <td>32.30</td>\n",
       "      <td>32.98</td>\n",
       "      <td>32.09</td>\n",
       "      <td>8374</td>\n",
       "      <td>27222818</td>\n",
       "    </tr>\n",
       "    <tr>\n",
       "      <th>2004-09-22</th>\n",
       "      <td>6005191</td>\n",
       "      <td>32.03</td>\n",
       "      <td>32.16</td>\n",
       "      <td>32.49</td>\n",
       "      <td>32.03</td>\n",
       "      <td>4348</td>\n",
       "      <td>13965168</td>\n",
       "    </tr>\n",
       "    <tr>\n",
       "      <th>2004-09-23</th>\n",
       "      <td>6005191</td>\n",
       "      <td>32.11</td>\n",
       "      <td>33.42</td>\n",
       "      <td>33.52</td>\n",
       "      <td>32.11</td>\n",
       "      <td>17667</td>\n",
       "      <td>58219692</td>\n",
       "    </tr>\n",
       "    <tr>\n",
       "      <th>2004-09-24</th>\n",
       "      <td>6005191</td>\n",
       "      <td>33.60</td>\n",
       "      <td>34.49</td>\n",
       "      <td>35.89</td>\n",
       "      <td>33.60</td>\n",
       "      <td>30981</td>\n",
       "      <td>108295826</td>\n",
       "    </tr>\n",
       "    <tr>\n",
       "      <th>2004-09-27</th>\n",
       "      <td>6005191</td>\n",
       "      <td>34.95</td>\n",
       "      <td>34.93</td>\n",
       "      <td>35.98</td>\n",
       "      <td>34.50</td>\n",
       "      <td>6067</td>\n",
       "      <td>21339456</td>\n",
       "    </tr>\n",
       "  </tbody>\n",
       "</table>\n",
       "<p>498 rows × 7 columns</p>\n",
       "</div>"
      ],
      "text/plain": [
       "            STOCK_CODE   open  close  maximum  minimum  volume   TURNOVER\n",
       "day                                                                      \n",
       "2001-10-17     6005191  34.79  34.20    34.81    33.90   12507   42766000\n",
       "2001-10-18     6005191  34.20  34.04    34.66    33.91    4983   16999000\n",
       "2001-10-19     6005191  34.00  33.50    34.15    33.01   15687   52422000\n",
       "2001-10-22     6005191  33.30  32.79    33.70    32.70    9760   32268000\n",
       "2001-11-08     6005191  33.35  33.70    33.89    32.98    7402   24682000\n",
       "...                ...    ...    ...      ...      ...     ...        ...\n",
       "2004-09-21     6005191  32.09  32.30    32.98    32.09    8374   27222818\n",
       "2004-09-22     6005191  32.03  32.16    32.49    32.03    4348   13965168\n",
       "2004-09-23     6005191  32.11  33.42    33.52    32.11   17667   58219692\n",
       "2004-09-24     6005191  33.60  34.49    35.89    33.60   30981  108295826\n",
       "2004-09-27     6005191  34.95  34.93    35.98    34.50    6067   21339456\n",
       "\n",
       "[498 rows x 7 columns]"
      ]
     },
     "execution_count": 92,
     "metadata": {},
     "output_type": "execute_result"
    }
   ],
   "source": [
    "c1=贵州茅台['open']<35\n",
    "c2=贵州茅台['close']<35\n",
    "布尔列表=c1&c2\n",
    "贵州茅台.loc[布尔列表]"
   ]
  },
  {
   "cell_type": "code",
   "execution_count": 93,
   "metadata": {},
   "outputs": [],
   "source": [
    "#使用函数作为索引\n",
    "def condition(pd):\n",
    "    c1=pd['open']<35\n",
    "    c2=pd['close']<35\n",
    "    布尔列表=c1&c2\n",
    "    return 布尔列表"
   ]
  },
  {
   "cell_type": "code",
   "execution_count": 94,
   "metadata": {},
   "outputs": [
    {
     "data": {
      "text/html": [
       "<div>\n",
       "<style scoped>\n",
       "    .dataframe tbody tr th:only-of-type {\n",
       "        vertical-align: middle;\n",
       "    }\n",
       "\n",
       "    .dataframe tbody tr th {\n",
       "        vertical-align: top;\n",
       "    }\n",
       "\n",
       "    .dataframe thead th {\n",
       "        text-align: right;\n",
       "    }\n",
       "</style>\n",
       "<table border=\"1\" class=\"dataframe\">\n",
       "  <thead>\n",
       "    <tr style=\"text-align: right;\">\n",
       "      <th></th>\n",
       "      <th>STOCK_CODE</th>\n",
       "      <th>open</th>\n",
       "      <th>close</th>\n",
       "      <th>maximum</th>\n",
       "      <th>minimum</th>\n",
       "      <th>volume</th>\n",
       "      <th>TURNOVER</th>\n",
       "    </tr>\n",
       "    <tr>\n",
       "      <th>day</th>\n",
       "      <th></th>\n",
       "      <th></th>\n",
       "      <th></th>\n",
       "      <th></th>\n",
       "      <th></th>\n",
       "      <th></th>\n",
       "      <th></th>\n",
       "    </tr>\n",
       "  </thead>\n",
       "  <tbody>\n",
       "    <tr>\n",
       "      <th>2001-10-17</th>\n",
       "      <td>6005191</td>\n",
       "      <td>34.79</td>\n",
       "      <td>34.20</td>\n",
       "      <td>34.81</td>\n",
       "      <td>33.90</td>\n",
       "      <td>12507</td>\n",
       "      <td>42766000</td>\n",
       "    </tr>\n",
       "    <tr>\n",
       "      <th>2001-10-18</th>\n",
       "      <td>6005191</td>\n",
       "      <td>34.20</td>\n",
       "      <td>34.04</td>\n",
       "      <td>34.66</td>\n",
       "      <td>33.91</td>\n",
       "      <td>4983</td>\n",
       "      <td>16999000</td>\n",
       "    </tr>\n",
       "    <tr>\n",
       "      <th>2001-10-19</th>\n",
       "      <td>6005191</td>\n",
       "      <td>34.00</td>\n",
       "      <td>33.50</td>\n",
       "      <td>34.15</td>\n",
       "      <td>33.01</td>\n",
       "      <td>15687</td>\n",
       "      <td>52422000</td>\n",
       "    </tr>\n",
       "    <tr>\n",
       "      <th>2001-10-22</th>\n",
       "      <td>6005191</td>\n",
       "      <td>33.30</td>\n",
       "      <td>32.79</td>\n",
       "      <td>33.70</td>\n",
       "      <td>32.70</td>\n",
       "      <td>9760</td>\n",
       "      <td>32268000</td>\n",
       "    </tr>\n",
       "    <tr>\n",
       "      <th>2001-11-08</th>\n",
       "      <td>6005191</td>\n",
       "      <td>33.35</td>\n",
       "      <td>33.70</td>\n",
       "      <td>33.89</td>\n",
       "      <td>32.98</td>\n",
       "      <td>7402</td>\n",
       "      <td>24682000</td>\n",
       "    </tr>\n",
       "    <tr>\n",
       "      <th>...</th>\n",
       "      <td>...</td>\n",
       "      <td>...</td>\n",
       "      <td>...</td>\n",
       "      <td>...</td>\n",
       "      <td>...</td>\n",
       "      <td>...</td>\n",
       "      <td>...</td>\n",
       "    </tr>\n",
       "    <tr>\n",
       "      <th>2004-09-21</th>\n",
       "      <td>6005191</td>\n",
       "      <td>32.09</td>\n",
       "      <td>32.30</td>\n",
       "      <td>32.98</td>\n",
       "      <td>32.09</td>\n",
       "      <td>8374</td>\n",
       "      <td>27222818</td>\n",
       "    </tr>\n",
       "    <tr>\n",
       "      <th>2004-09-22</th>\n",
       "      <td>6005191</td>\n",
       "      <td>32.03</td>\n",
       "      <td>32.16</td>\n",
       "      <td>32.49</td>\n",
       "      <td>32.03</td>\n",
       "      <td>4348</td>\n",
       "      <td>13965168</td>\n",
       "    </tr>\n",
       "    <tr>\n",
       "      <th>2004-09-23</th>\n",
       "      <td>6005191</td>\n",
       "      <td>32.11</td>\n",
       "      <td>33.42</td>\n",
       "      <td>33.52</td>\n",
       "      <td>32.11</td>\n",
       "      <td>17667</td>\n",
       "      <td>58219692</td>\n",
       "    </tr>\n",
       "    <tr>\n",
       "      <th>2004-09-24</th>\n",
       "      <td>6005191</td>\n",
       "      <td>33.60</td>\n",
       "      <td>34.49</td>\n",
       "      <td>35.89</td>\n",
       "      <td>33.60</td>\n",
       "      <td>30981</td>\n",
       "      <td>108295826</td>\n",
       "    </tr>\n",
       "    <tr>\n",
       "      <th>2004-09-27</th>\n",
       "      <td>6005191</td>\n",
       "      <td>34.95</td>\n",
       "      <td>34.93</td>\n",
       "      <td>35.98</td>\n",
       "      <td>34.50</td>\n",
       "      <td>6067</td>\n",
       "      <td>21339456</td>\n",
       "    </tr>\n",
       "  </tbody>\n",
       "</table>\n",
       "<p>498 rows × 7 columns</p>\n",
       "</div>"
      ],
      "text/plain": [
       "            STOCK_CODE   open  close  maximum  minimum  volume   TURNOVER\n",
       "day                                                                      \n",
       "2001-10-17     6005191  34.79  34.20    34.81    33.90   12507   42766000\n",
       "2001-10-18     6005191  34.20  34.04    34.66    33.91    4983   16999000\n",
       "2001-10-19     6005191  34.00  33.50    34.15    33.01   15687   52422000\n",
       "2001-10-22     6005191  33.30  32.79    33.70    32.70    9760   32268000\n",
       "2001-11-08     6005191  33.35  33.70    33.89    32.98    7402   24682000\n",
       "...                ...    ...    ...      ...      ...     ...        ...\n",
       "2004-09-21     6005191  32.09  32.30    32.98    32.09    8374   27222818\n",
       "2004-09-22     6005191  32.03  32.16    32.49    32.03    4348   13965168\n",
       "2004-09-23     6005191  32.11  33.42    33.52    32.11   17667   58219692\n",
       "2004-09-24     6005191  33.60  34.49    35.89    33.60   30981  108295826\n",
       "2004-09-27     6005191  34.95  34.93    35.98    34.50    6067   21339456\n",
       "\n",
       "[498 rows x 7 columns]"
      ]
     },
     "execution_count": 94,
     "metadata": {},
     "output_type": "execute_result"
    }
   ],
   "source": [
    "贵州茅台.loc[condition]"
   ]
  },
  {
   "cell_type": "code",
   "execution_count": 97,
   "metadata": {},
   "outputs": [
    {
     "data": {
      "text/html": [
       "<div>\n",
       "<style scoped>\n",
       "    .dataframe tbody tr th:only-of-type {\n",
       "        vertical-align: middle;\n",
       "    }\n",
       "\n",
       "    .dataframe tbody tr th {\n",
       "        vertical-align: top;\n",
       "    }\n",
       "\n",
       "    .dataframe thead th {\n",
       "        text-align: right;\n",
       "    }\n",
       "</style>\n",
       "<table border=\"1\" class=\"dataframe\">\n",
       "  <thead>\n",
       "    <tr style=\"text-align: right;\">\n",
       "      <th></th>\n",
       "      <th>open</th>\n",
       "      <th>close</th>\n",
       "    </tr>\n",
       "    <tr>\n",
       "      <th>day</th>\n",
       "      <th></th>\n",
       "      <th></th>\n",
       "    </tr>\n",
       "  </thead>\n",
       "  <tbody>\n",
       "    <tr>\n",
       "      <th>2001-10-17</th>\n",
       "      <td>34.79</td>\n",
       "      <td>34.20</td>\n",
       "    </tr>\n",
       "    <tr>\n",
       "      <th>2001-10-18</th>\n",
       "      <td>34.20</td>\n",
       "      <td>34.04</td>\n",
       "    </tr>\n",
       "    <tr>\n",
       "      <th>2001-10-19</th>\n",
       "      <td>34.00</td>\n",
       "      <td>33.50</td>\n",
       "    </tr>\n",
       "    <tr>\n",
       "      <th>2001-10-22</th>\n",
       "      <td>33.30</td>\n",
       "      <td>32.79</td>\n",
       "    </tr>\n",
       "    <tr>\n",
       "      <th>2001-11-08</th>\n",
       "      <td>33.35</td>\n",
       "      <td>33.70</td>\n",
       "    </tr>\n",
       "    <tr>\n",
       "      <th>...</th>\n",
       "      <td>...</td>\n",
       "      <td>...</td>\n",
       "    </tr>\n",
       "    <tr>\n",
       "      <th>2004-09-21</th>\n",
       "      <td>32.09</td>\n",
       "      <td>32.30</td>\n",
       "    </tr>\n",
       "    <tr>\n",
       "      <th>2004-09-22</th>\n",
       "      <td>32.03</td>\n",
       "      <td>32.16</td>\n",
       "    </tr>\n",
       "    <tr>\n",
       "      <th>2004-09-23</th>\n",
       "      <td>32.11</td>\n",
       "      <td>33.42</td>\n",
       "    </tr>\n",
       "    <tr>\n",
       "      <th>2004-09-24</th>\n",
       "      <td>33.60</td>\n",
       "      <td>34.49</td>\n",
       "    </tr>\n",
       "    <tr>\n",
       "      <th>2004-09-27</th>\n",
       "      <td>34.95</td>\n",
       "      <td>34.93</td>\n",
       "    </tr>\n",
       "  </tbody>\n",
       "</table>\n",
       "<p>498 rows × 2 columns</p>\n",
       "</div>"
      ],
      "text/plain": [
       "             open  close\n",
       "day                     \n",
       "2001-10-17  34.79  34.20\n",
       "2001-10-18  34.20  34.04\n",
       "2001-10-19  34.00  33.50\n",
       "2001-10-22  33.30  32.79\n",
       "2001-11-08  33.35  33.70\n",
       "...           ...    ...\n",
       "2004-09-21  32.09  32.30\n",
       "2004-09-22  32.03  32.16\n",
       "2004-09-23  32.11  33.42\n",
       "2004-09-24  33.60  34.49\n",
       "2004-09-27  34.95  34.93\n",
       "\n",
       "[498 rows x 2 columns]"
      ]
     },
     "execution_count": 97,
     "metadata": {},
     "output_type": "execute_result"
    }
   ],
   "source": [
    "贵州茅台.query('open<35 and close<35')[['open','close']]"
   ]
  },
  {
   "cell_type": "code",
   "execution_count": null,
   "metadata": {},
   "outputs": [
    {
     "data": {
      "text/html": [
       "<div>\n",
       "<style scoped>\n",
       "    .dataframe tbody tr th:only-of-type {\n",
       "        vertical-align: middle;\n",
       "    }\n",
       "\n",
       "    .dataframe tbody tr th {\n",
       "        vertical-align: top;\n",
       "    }\n",
       "\n",
       "    .dataframe thead th {\n",
       "        text-align: right;\n",
       "    }\n",
       "</style>\n",
       "<table border=\"1\" class=\"dataframe\">\n",
       "  <thead>\n",
       "    <tr style=\"text-align: right;\">\n",
       "      <th></th>\n",
       "      <th>STOCK_CODE</th>\n",
       "      <th>open</th>\n",
       "      <th>close</th>\n",
       "      <th>maximum</th>\n",
       "      <th>minimum</th>\n",
       "      <th>volume</th>\n",
       "      <th>TURNOVER</th>\n",
       "    </tr>\n",
       "    <tr>\n",
       "      <th>day</th>\n",
       "      <th></th>\n",
       "      <th></th>\n",
       "      <th></th>\n",
       "      <th></th>\n",
       "      <th></th>\n",
       "      <th></th>\n",
       "      <th></th>\n",
       "    </tr>\n",
       "  </thead>\n",
       "  <tbody>\n",
       "    <tr>\n",
       "      <th>2004-08-26</th>\n",
       "      <td>6005191</td>\n",
       "      <td>29.20</td>\n",
       "      <td>29.53</td>\n",
       "      <td>29.60</td>\n",
       "      <td>29.20</td>\n",
       "      <td>2161</td>\n",
       "      <td>6353347</td>\n",
       "    </tr>\n",
       "    <tr>\n",
       "      <th>2003-07-09</th>\n",
       "      <td>6005191</td>\n",
       "      <td>25.16</td>\n",
       "      <td>25.05</td>\n",
       "      <td>25.19</td>\n",
       "      <td>24.98</td>\n",
       "      <td>1484</td>\n",
       "      <td>3722710</td>\n",
       "    </tr>\n",
       "    <tr>\n",
       "      <th>2003-08-25</th>\n",
       "      <td>6005191</td>\n",
       "      <td>21.60</td>\n",
       "      <td>21.35</td>\n",
       "      <td>21.65</td>\n",
       "      <td>21.30</td>\n",
       "      <td>2345</td>\n",
       "      <td>5036822</td>\n",
       "    </tr>\n",
       "    <tr>\n",
       "      <th>2013-02-01</th>\n",
       "      <td>6005191</td>\n",
       "      <td>178.88</td>\n",
       "      <td>178.98</td>\n",
       "      <td>181.77</td>\n",
       "      <td>178.03</td>\n",
       "      <td>45266</td>\n",
       "      <td>813241680</td>\n",
       "    </tr>\n",
       "    <tr>\n",
       "      <th>2006-04-20</th>\n",
       "      <td>6005191</td>\n",
       "      <td>89.98</td>\n",
       "      <td>84.03</td>\n",
       "      <td>89.98</td>\n",
       "      <td>80.05</td>\n",
       "      <td>55615</td>\n",
       "      <td>475176336</td>\n",
       "    </tr>\n",
       "    <tr>\n",
       "      <th>2012-07-25</th>\n",
       "      <td>6005191</td>\n",
       "      <td>250.00</td>\n",
       "      <td>255.55</td>\n",
       "      <td>255.80</td>\n",
       "      <td>249.51</td>\n",
       "      <td>26170</td>\n",
       "      <td>664005632</td>\n",
       "    </tr>\n",
       "    <tr>\n",
       "      <th>2009-10-26</th>\n",
       "      <td>6005191</td>\n",
       "      <td>159.97</td>\n",
       "      <td>156.59</td>\n",
       "      <td>159.98</td>\n",
       "      <td>156.26</td>\n",
       "      <td>45644</td>\n",
       "      <td>716061312</td>\n",
       "    </tr>\n",
       "    <tr>\n",
       "      <th>2014-07-17</th>\n",
       "      <td>6005191</td>\n",
       "      <td>154.09</td>\n",
       "      <td>153.75</td>\n",
       "      <td>155.55</td>\n",
       "      <td>152.00</td>\n",
       "      <td>20191</td>\n",
       "      <td>309501856</td>\n",
       "    </tr>\n",
       "    <tr>\n",
       "      <th>2018-01-05</th>\n",
       "      <td>6005191</td>\n",
       "      <td>741.00</td>\n",
       "      <td>738.36</td>\n",
       "      <td>746.03</td>\n",
       "      <td>728.22</td>\n",
       "      <td>39989</td>\n",
       "      <td>2946493008</td>\n",
       "    </tr>\n",
       "    <tr>\n",
       "      <th>2012-02-09</th>\n",
       "      <td>6005191</td>\n",
       "      <td>188.00</td>\n",
       "      <td>190.75</td>\n",
       "      <td>191.15</td>\n",
       "      <td>187.66</td>\n",
       "      <td>31385</td>\n",
       "      <td>596916592</td>\n",
       "    </tr>\n",
       "  </tbody>\n",
       "</table>\n",
       "</div>"
      ],
      "text/plain": [
       "            STOCK_CODE    open   close  maximum  minimum  volume    TURNOVER\n",
       "day                                                                         \n",
       "2004-08-26     6005191   29.20   29.53    29.60    29.20    2161     6353347\n",
       "2003-07-09     6005191   25.16   25.05    25.19    24.98    1484     3722710\n",
       "2003-08-25     6005191   21.60   21.35    21.65    21.30    2345     5036822\n",
       "2013-02-01     6005191  178.88  178.98   181.77   178.03   45266   813241680\n",
       "2006-04-20     6005191   89.98   84.03    89.98    80.05   55615   475176336\n",
       "2012-07-25     6005191  250.00  255.55   255.80   249.51   26170   664005632\n",
       "2009-10-26     6005191  159.97  156.59   159.98   156.26   45644   716061312\n",
       "2014-07-17     6005191  154.09  153.75   155.55   152.00   20191   309501856\n",
       "2018-01-05     6005191  741.00  738.36   746.03   728.22   39989  2946493008\n",
       "2012-02-09     6005191  188.00  190.75   191.15   187.66   31385   596916592"
      ]
     },
     "execution_count": 60,
     "metadata": {},
     "output_type": "execute_result"
    }
   ],
   "source": [
    "贵州茅台.sample(10)"
   ]
  },
  {
   "cell_type": "code",
   "execution_count": null,
   "metadata": {},
   "outputs": [
    {
     "name": "stdout",
     "output_type": "stream",
     "text": [
      "<class 'pandas.core.frame.DataFrame'>\n",
      "Index: 4094 entries, 2001-08-27 to 2018-11-02\n",
      "Data columns (total 7 columns):\n",
      " #   Column      Non-Null Count  Dtype  \n",
      "---  ------      --------------  -----  \n",
      " 0   STOCK_CODE  4094 non-null   int64  \n",
      " 1   open        4094 non-null   float64\n",
      " 2   close       4094 non-null   float64\n",
      " 3   maximum     4094 non-null   float64\n",
      " 4   minimum     4094 non-null   float64\n",
      " 5   volume      4094 non-null   int64  \n",
      " 6   TURNOVER    4094 non-null   int64  \n",
      "dtypes: float64(4), int64(3)\n",
      "memory usage: 384.9+ KB\n"
     ]
    }
   ],
   "source": [
    "贵州茅台.info()"
   ]
  },
  {
   "cell_type": "code",
   "execution_count": null,
   "metadata": {},
   "outputs": [
    {
     "data": {
      "text/plain": [
       "count    4094.000000\n",
       "mean      182.161910\n",
       "std       165.857882\n",
       "min        20.900000\n",
       "25%        47.405000\n",
       "50%       159.930000\n",
       "75%       208.500000\n",
       "max       800.000000\n",
       "Name: open, dtype: float64"
      ]
     },
     "execution_count": 63,
     "metadata": {},
     "output_type": "execute_result"
    }
   ],
   "source": [
    "贵州茅台['open'].describe()"
   ]
  },
  {
   "cell_type": "code",
   "execution_count": null,
   "metadata": {},
   "outputs": [],
   "source": [
    "result=贵州茅台['open'].unique()"
   ]
  },
  {
   "cell_type": "code",
   "execution_count": null,
   "metadata": {},
   "outputs": [],
   "source": [
    "result2=贵州茅台['open'].nunique()"
   ]
  },
  {
   "cell_type": "code",
   "execution_count": null,
   "metadata": {},
   "outputs": [],
   "source": [
    "result3=贵州茅台['open'].value_counts()"
   ]
  },
  {
   "cell_type": "code",
   "execution_count": 98,
   "metadata": {},
   "outputs": [
    {
     "data": {
      "text/plain": [
       "name\n",
       "A     4\n",
       "B     5\n",
       "C    12\n",
       "Name: value, dtype: int64"
      ]
     },
     "execution_count": 98,
     "metadata": {},
     "output_type": "execute_result"
    }
   ],
   "source": [
    "df=pd.DataFrame({\n",
    "    \"name\":[\"A\",\"B\",\"C\",\"B\",\"C\",\"A\",\"C\"],\n",
    "    \"value\":[1,3,7,2,4,3,1]\n",
    "})\n",
    "df.groupby(\"name\")[\"value\"].sum()"
   ]
  }
 ],
 "metadata": {
  "kernelspec": {
   "display_name": "Python 3",
   "language": "python",
   "name": "python3"
  },
  "language_info": {
   "codemirror_mode": {
    "name": "ipython",
    "version": 3
   },
   "file_extension": ".py",
   "mimetype": "text/x-python",
   "name": "python",
   "nbconvert_exporter": "python",
   "pygments_lexer": "ipython3",
   "version": "3.8.10"
  },
  "orig_nbformat": 4
 },
 "nbformat": 4,
 "nbformat_minor": 2
}
