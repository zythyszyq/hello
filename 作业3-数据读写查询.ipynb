{
 "cells": [
  {
   "cell_type": "code",
   "execution_count": 1,
   "metadata": {},
   "outputs": [],
   "source": [
    "#任务1:CSV格式数据的读写查询\n",
    "import pandas as pd"
   ]
  },
  {
   "cell_type": "code",
   "execution_count": 2,
   "metadata": {},
   "outputs": [
    {
     "data": {
      "text/html": [
       "<div>\n",
       "<style scoped>\n",
       "    .dataframe tbody tr th:only-of-type {\n",
       "        vertical-align: middle;\n",
       "    }\n",
       "\n",
       "    .dataframe tbody tr th {\n",
       "        vertical-align: top;\n",
       "    }\n",
       "\n",
       "    .dataframe thead th {\n",
       "        text-align: right;\n",
       "    }\n",
       "</style>\n",
       "<table border=\"1\" class=\"dataframe\">\n",
       "  <thead>\n",
       "    <tr style=\"text-align: right;\">\n",
       "      <th></th>\n",
       "      <th>姓名</th>\n",
       "      <th>学号</th>\n",
       "      <th>Github仓库地址</th>\n",
       "      <th>查看附件(在电脑本地点击下列链接,可直接打开对应文件)</th>\n",
       "      <th>提交时间</th>\n",
       "    </tr>\n",
       "  </thead>\n",
       "  <tbody>\n",
       "    <tr>\n",
       "      <th>0</th>\n",
       "      <td>许思勤</td>\n",
       "      <td>p221014505</td>\n",
       "      <td>https://github.com/qqliulian/liulianhao</td>\n",
       "      <td>NaN</td>\n",
       "      <td>2023-09-01 23:40:13</td>\n",
       "    </tr>\n",
       "    <tr>\n",
       "      <th>1</th>\n",
       "      <td>高娴</td>\n",
       "      <td>P221014587</td>\n",
       "      <td>https://github.com/gx530381/gxx</td>\n",
       "      <td>NaN</td>\n",
       "      <td>2023-09-01 18:06:59</td>\n",
       "    </tr>\n",
       "    <tr>\n",
       "      <th>2</th>\n",
       "      <td>周茂</td>\n",
       "      <td>P221014674</td>\n",
       "      <td>https://github.com/zzzzzmyou/1</td>\n",
       "      <td>NaN</td>\n",
       "      <td>2023-09-01 16:25:11</td>\n",
       "    </tr>\n",
       "    <tr>\n",
       "      <th>3</th>\n",
       "      <td>古颜</td>\n",
       "      <td>P221014641</td>\n",
       "      <td>https://github.com/luohuazhanbaiyi/111</td>\n",
       "      <td>NaN</td>\n",
       "      <td>2023-09-01 13:56:15</td>\n",
       "    </tr>\n",
       "    <tr>\n",
       "      <th>4</th>\n",
       "      <td>颜慈</td>\n",
       "      <td>P221014638</td>\n",
       "      <td>https://github.com/Yuxikkk/yyyc</td>\n",
       "      <td>NaN</td>\n",
       "      <td>2023-08-31 23:15:20</td>\n",
       "    </tr>\n",
       "    <tr>\n",
       "      <th>...</th>\n",
       "      <td>...</td>\n",
       "      <td>...</td>\n",
       "      <td>...</td>\n",
       "      <td>...</td>\n",
       "      <td>...</td>\n",
       "    </tr>\n",
       "    <tr>\n",
       "      <th>86</th>\n",
       "      <td>徐睿鲲</td>\n",
       "      <td>P221014520</td>\n",
       "      <td>https://github.com/huuggu/xuanxiu</td>\n",
       "      <td>NaN</td>\n",
       "      <td>2023-08-30 21:40:22</td>\n",
       "    </tr>\n",
       "    <tr>\n",
       "      <th>87</th>\n",
       "      <td>刘占森</td>\n",
       "      <td>P221014508</td>\n",
       "      <td>https://github.com/Anbnann/homework</td>\n",
       "      <td>NaN</td>\n",
       "      <td>2023-08-30 21:09:06</td>\n",
       "    </tr>\n",
       "    <tr>\n",
       "      <th>88</th>\n",
       "      <td>崔益广</td>\n",
       "      <td>P221014559</td>\n",
       "      <td>https://github.com/Anuibmlcu/cuizero</td>\n",
       "      <td>NaN</td>\n",
       "      <td>2023-08-30 21:04:18</td>\n",
       "    </tr>\n",
       "    <tr>\n",
       "      <th>89</th>\n",
       "      <td>吴娅蕾</td>\n",
       "      <td>P221014457</td>\n",
       "      <td>https://github.com/imAShiiiiiii/statistic-2023</td>\n",
       "      <td>NaN</td>\n",
       "      <td>2023-08-30 20:43:55</td>\n",
       "    </tr>\n",
       "    <tr>\n",
       "      <th>90</th>\n",
       "      <td>蓝苡榕</td>\n",
       "      <td>P221014511</td>\n",
       "      <td>https://github.com/lanyirongacyl/statistic</td>\n",
       "      <td>NaN</td>\n",
       "      <td>2023-08-30 20:39:22</td>\n",
       "    </tr>\n",
       "  </tbody>\n",
       "</table>\n",
       "<p>91 rows × 5 columns</p>\n",
       "</div>"
      ],
      "text/plain": [
       "     姓名          学号                                      Github仓库地址  \\\n",
       "0   许思勤  p221014505         https://github.com/qqliulian/liulianhao   \n",
       "1    高娴  P221014587                 https://github.com/gx530381/gxx   \n",
       "2    周茂  P221014674                  https://github.com/zzzzzmyou/1   \n",
       "3    古颜  P221014641          https://github.com/luohuazhanbaiyi/111   \n",
       "4    颜慈  P221014638                 https://github.com/Yuxikkk/yyyc   \n",
       "..  ...         ...                                             ...   \n",
       "86  徐睿鲲  P221014520               https://github.com/huuggu/xuanxiu   \n",
       "87  刘占森  P221014508             https://github.com/Anbnann/homework   \n",
       "88  崔益广  P221014559            https://github.com/Anuibmlcu/cuizero   \n",
       "89  吴娅蕾  P221014457  https://github.com/imAShiiiiiii/statistic-2023   \n",
       "90  蓝苡榕  P221014511      https://github.com/lanyirongacyl/statistic   \n",
       "\n",
       "    查看附件(在电脑本地点击下列链接,可直接打开对应文件)                 提交时间  \n",
       "0                           NaN  2023-09-01 23:40:13  \n",
       "1                           NaN  2023-09-01 18:06:59  \n",
       "2                           NaN  2023-09-01 16:25:11  \n",
       "3                           NaN  2023-09-01 13:56:15  \n",
       "4                           NaN  2023-08-31 23:15:20  \n",
       "..                          ...                  ...  \n",
       "86                          NaN  2023-08-30 21:40:22  \n",
       "87                          NaN  2023-08-30 21:09:06  \n",
       "88                          NaN  2023-08-30 21:04:18  \n",
       "89                          NaN  2023-08-30 20:43:55  \n",
       "90                          NaN  2023-08-30 20:39:22  \n",
       "\n",
       "[91 rows x 5 columns]"
      ]
     },
     "execution_count": 2,
     "metadata": {},
     "output_type": "execute_result"
    }
   ],
   "source": [
    "pd.read_csv(R'data\\课程第一次作业收集统计表_提交统计.csv',encoding='GBK')"
   ]
  },
  {
   "cell_type": "code",
   "execution_count": 3,
   "metadata": {},
   "outputs": [],
   "source": [
    "列表名称=['姓名','学号','Github仓库地址']\n",
    "df1=pd.read_csv(R'data\\课程第一次作业收集统计表_提交统计.csv',encoding='GBK',usecols=列表名称)"
   ]
  },
  {
   "cell_type": "code",
   "execution_count": 4,
   "metadata": {},
   "outputs": [],
   "source": [
    "#任务2:\n",
    "df2=pd.read_excel(R'data\\000_《统计与数据分析》课程第一次作业收集_提交统计.xlsx', sheet_name=1)"
   ]
  },
  {
   "cell_type": "code",
   "execution_count": 5,
   "metadata": {},
   "outputs": [],
   "source": [
    "df2.to_excel(R'output/excel保存练习.xlsx',index=False)"
   ]
  },
  {
   "cell_type": "code",
   "execution_count": 6,
   "metadata": {},
   "outputs": [],
   "source": [
    "#任务3:sav\n",
    "df3=pd.read_spss(R'data\\identity.sav')"
   ]
  },
  {
   "cell_type": "code",
   "execution_count": 7,
   "metadata": {},
   "outputs": [],
   "source": [
    "import pyreadstat"
   ]
  },
  {
   "cell_type": "code",
   "execution_count": 8,
   "metadata": {},
   "outputs": [],
   "source": [
    "d=pyreadstat.read_sav(R'data\\identity.sav')"
   ]
  },
  {
   "cell_type": "code",
   "execution_count": 9,
   "metadata": {},
   "outputs": [
    {
     "data": {
      "text/plain": [
       "[<Page:1>,\n",
       " <Page:2>,\n",
       " <Page:3>,\n",
       " <Page:4>,\n",
       " <Page:5>,\n",
       " <Page:6>,\n",
       " <Page:7>,\n",
       " <Page:8>,\n",
       " <Page:9>,\n",
       " <Page:10>,\n",
       " <Page:11>,\n",
       " <Page:12>,\n",
       " <Page:13>,\n",
       " <Page:14>,\n",
       " <Page:15>,\n",
       " <Page:16>,\n",
       " <Page:17>,\n",
       " <Page:18>,\n",
       " <Page:19>,\n",
       " <Page:20>,\n",
       " <Page:21>,\n",
       " <Page:22>,\n",
       " <Page:23>,\n",
       " <Page:24>,\n",
       " <Page:25>,\n",
       " <Page:26>,\n",
       " <Page:27>,\n",
       " <Page:28>,\n",
       " <Page:29>,\n",
       " <Page:30>,\n",
       " <Page:31>,\n",
       " <Page:32>,\n",
       " <Page:33>,\n",
       " <Page:34>,\n",
       " <Page:35>,\n",
       " <Page:36>,\n",
       " <Page:37>,\n",
       " <Page:38>,\n",
       " <Page:39>,\n",
       " <Page:40>,\n",
       " <Page:41>,\n",
       " <Page:42>,\n",
       " <Page:43>,\n",
       " <Page:44>,\n",
       " <Page:45>,\n",
       " <Page:46>,\n",
       " <Page:47>,\n",
       " <Page:48>,\n",
       " <Page:49>,\n",
       " <Page:50>,\n",
       " <Page:51>,\n",
       " <Page:52>,\n",
       " <Page:53>,\n",
       " <Page:54>,\n",
       " <Page:55>,\n",
       " <Page:56>,\n",
       " <Page:57>,\n",
       " <Page:58>,\n",
       " <Page:59>,\n",
       " <Page:60>,\n",
       " <Page:61>,\n",
       " <Page:62>,\n",
       " <Page:63>,\n",
       " <Page:64>,\n",
       " <Page:65>,\n",
       " <Page:66>,\n",
       " <Page:67>,\n",
       " <Page:68>,\n",
       " <Page:69>,\n",
       " <Page:70>,\n",
       " <Page:71>,\n",
       " <Page:72>,\n",
       " <Page:73>,\n",
       " <Page:74>,\n",
       " <Page:75>,\n",
       " <Page:76>,\n",
       " <Page:77>,\n",
       " <Page:78>,\n",
       " <Page:79>,\n",
       " <Page:80>,\n",
       " <Page:81>,\n",
       " <Page:82>,\n",
       " <Page:83>,\n",
       " <Page:84>,\n",
       " <Page:85>,\n",
       " <Page:86>,\n",
       " <Page:87>,\n",
       " <Page:88>,\n",
       " <Page:89>,\n",
       " <Page:90>,\n",
       " <Page:91>,\n",
       " <Page:92>]"
      ]
     },
     "execution_count": 9,
     "metadata": {},
     "output_type": "execute_result"
    }
   ],
   "source": [
    "#任务4\n",
    "import pdfplumber\n",
    "pdf =pdfplumber.open(R'C:\\Users\\张雨婷\\Desktop\\hello\\data\\高考核心词汇1278.pdf')\n",
    "pdf.pages"
   ]
  },
  {
   "cell_type": "code",
   "execution_count": 10,
   "metadata": {},
   "outputs": [
    {
     "data": {
      "text/plain": [
       "0"
      ]
     },
     "execution_count": 10,
     "metadata": {},
     "output_type": "execute_result"
    }
   ],
   "source": [
    "len(pdf.pages)\n",
    "len([])"
   ]
  },
  {
   "cell_type": "code",
   "execution_count": 11,
   "metadata": {},
   "outputs": [],
   "source": [
    "#初始化列表\n",
    "table=[]\n",
    "#从第一页循环到最后一页\n",
    "for i in range(len(pdf.pages)-1):\n",
    "    #获取第i页\n",
    "    page=pdf.pages[i+1] \n",
    "    #page,extract_table()作用是提取当前页面page中的表格\n",
    "    #table extend(page.extract_table())\n",
    "    table.extend(page.extract_table())"
   ]
  },
  {
   "cell_type": "code",
   "execution_count": 13,
   "metadata": {},
   "outputs": [],
   "source": [
    "pdf_df=pd.DataFrame(table[2:])"
   ]
  },
  {
   "cell_type": "code",
   "execution_count": null,
   "metadata": {},
   "outputs": [],
   "source": [
    "pdf_df.to_excel('output/pdf表格数据读取练习结果.xlsx')"
   ]
  }
 ],
 "metadata": {
  "kernelspec": {
   "display_name": "Python 3",
   "language": "python",
   "name": "python3"
  },
  "language_info": {
   "codemirror_mode": {
    "name": "ipython",
    "version": 3
   },
   "file_extension": ".py",
   "mimetype": "text/x-python",
   "name": "python",
   "nbconvert_exporter": "python",
   "pygments_lexer": "ipython3",
   "version": "3.8.10"
  },
  "orig_nbformat": 4
 },
 "nbformat": 4,
 "nbformat_minor": 2
}
